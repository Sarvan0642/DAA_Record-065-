{
  "nbformat": 4,
  "nbformat_minor": 0,
  "metadata": {
    "colab": {
      "provenance": [],
      "authorship_tag": "ABX9TyMhyf2+pXjzQxGEDQ1+0oiH",
      "include_colab_link": true
    },
    "kernelspec": {
      "name": "python3",
      "display_name": "Python 3"
    },
    "language_info": {
      "name": "python"
    }
  },
  "cells": [
    {
      "cell_type": "markdown",
      "metadata": {
        "id": "view-in-github",
        "colab_type": "text"
      },
      "source": [
        "<a href=\"https://colab.research.google.com/github/Sarvan0642/DAA_Record-065-/blob/main/DAA_Record.ipynb\" target=\"_parent\"><img src=\"https://colab.research.google.com/assets/colab-badge.svg\" alt=\"Open In Colab\"/></a>"
      ]
    },
    {
      "cell_type": "markdown",
      "source": [
        "EX-1: TOWER OF HANOI"
      ],
      "metadata": {
        "id": "RD_tr4IzLKt6"
      }
    },
    {
      "cell_type": "code",
      "source": [
        "def tower_hanoi(n, source, target, auxiliary):\n",
        "    if n == 1:\n",
        "        print(f\"Move disk 1 from rod {source} to rod {target}\")\n",
        "        return\n",
        "    tower_hanoi(n - 1, source, auxiliary, target)\n",
        "    print(f\"Move disk {n} from rod {source} to rod {target}\")\n",
        "    tower_hanoi(n - 1, auxiliary, target, source)\n",
        "\n",
        "n = int(input(\"Enter the number of disks: \"))\n",
        "tower_hanoi(n, 0, 2, 1)\n"
      ],
      "metadata": {
        "colab": {
          "base_uri": "https://localhost:8080/"
        },
        "id": "nLN8gF4dLRoO",
        "outputId": "5bedf77c-b3b0-4aa6-ec67-3a414eea37fb"
      },
      "execution_count": 1,
      "outputs": [
        {
          "output_type": "stream",
          "name": "stdout",
          "text": [
            "Enter the number of disks: 4\n",
            "Move disk 1 from rod 0 to rod 1\n",
            "Move disk 2 from rod 0 to rod 2\n",
            "Move disk 1 from rod 1 to rod 2\n",
            "Move disk 3 from rod 0 to rod 1\n",
            "Move disk 1 from rod 2 to rod 0\n",
            "Move disk 2 from rod 2 to rod 1\n",
            "Move disk 1 from rod 0 to rod 1\n",
            "Move disk 4 from rod 0 to rod 2\n",
            "Move disk 1 from rod 1 to rod 2\n",
            "Move disk 2 from rod 1 to rod 0\n",
            "Move disk 1 from rod 2 to rod 0\n",
            "Move disk 3 from rod 1 to rod 2\n",
            "Move disk 1 from rod 0 to rod 1\n",
            "Move disk 2 from rod 0 to rod 2\n",
            "Move disk 1 from rod 1 to rod 2\n"
          ]
        }
      ]
    },
    {
      "cell_type": "markdown",
      "source": [
        "EX-2:FIBONACCI"
      ],
      "metadata": {
        "id": "ziLLTyi_LYij"
      }
    },
    {
      "cell_type": "markdown",
      "source": [
        "2(A). FIBONACCI USING ITERATION"
      ],
      "metadata": {
        "id": "0LOw0ROjLbK8"
      }
    },
    {
      "cell_type": "code",
      "source": [
        "def fibonacci(n):\n",
        "  a,b=0,1\n",
        "  for i in range(n):\n",
        "    print(a,end=\" \")\n",
        "    a,b=b,a+b\n",
        "n=int(input(\"enter the number of elements:\"))\n",
        "fibonacci(n)"
      ],
      "metadata": {
        "colab": {
          "base_uri": "https://localhost:8080/"
        },
        "id": "27dIDbCULb6l",
        "outputId": "c2002e29-a936-482c-9406-91c1c21a72b5"
      },
      "execution_count": 2,
      "outputs": [
        {
          "output_type": "stream",
          "name": "stdout",
          "text": [
            "enter the number of elements:5\n",
            "0 1 1 2 3 "
          ]
        }
      ]
    },
    {
      "cell_type": "markdown",
      "source": [
        "2(B). FIBONACCI USING RECURSION"
      ],
      "metadata": {
        "id": "OJzGwlCJLgwM"
      }
    },
    {
      "cell_type": "code",
      "source": [
        "def fibonacci(n):\n",
        "  if n<=1:\n",
        "    return n\n",
        "  else:\n",
        "    return fibonacci(n-1) + fibonacci(n-2)\n",
        "n=int(input(\"enter the number of elements:\"))\n",
        "for i in range(n):\n",
        "  print(fibonacci(i),end=\" \")"
      ],
      "metadata": {
        "colab": {
          "base_uri": "https://localhost:8080/"
        },
        "id": "cF4DgPKFLiId",
        "outputId": "0b2bcbbb-f4e3-412c-d6c1-7462438f9da6"
      },
      "execution_count": 3,
      "outputs": [
        {
          "output_type": "stream",
          "name": "stdout",
          "text": [
            "enter the number of elements:6\n",
            "0 1 1 2 3 5 "
          ]
        }
      ]
    },
    {
      "cell_type": "markdown",
      "source": [
        "EX-3: BIN PACKING"
      ],
      "metadata": {
        "id": "4QR52stRLnRM"
      }
    },
    {
      "cell_type": "code",
      "source": [
        "def bin_packing(weights,bin_capacity):\n",
        "  bins=[]\n",
        "  weights.sort(reverse=True)\n",
        "  for weight in weights:\n",
        "    placed=False\n",
        "    for bin in bins:\n",
        "      if sum(bin)+weight<=bin_capacity:\n",
        "        bin.append(weight)\n",
        "        placed=True\n",
        "        break\n",
        "    if not placed:\n",
        "      bins.append([weight])\n",
        "  return bins\n",
        "weights=[10,20,30,40,50]\n",
        "bin_capacity=80\n",
        "bins=bin_packing(weights,bin_capacity)\n",
        "print(bins)\n",
        "for i,bin in enumerate(bins,i):\n",
        "  print(f\"Bin {i} : {bin}\")"
      ],
      "metadata": {
        "colab": {
          "base_uri": "https://localhost:8080/"
        },
        "id": "sgp_LqsALn-E",
        "outputId": "f3733ce8-412d-43b1-ca31-bd0b7423a1cf"
      },
      "execution_count": 4,
      "outputs": [
        {
          "output_type": "stream",
          "name": "stdout",
          "text": [
            "[[50, 30], [40, 20, 10]]\n",
            "Bin 5 : [50, 30]\n",
            "Bin 6 : [40, 20, 10]\n"
          ]
        }
      ]
    },
    {
      "cell_type": "markdown",
      "source": [
        "EX-4: KNAPSACK PROBLEMS"
      ],
      "metadata": {
        "id": "zOJJs4UmLrFE"
      }
    },
    {
      "cell_type": "markdown",
      "source": [
        "4(A). FRACTIONAL KNAPSACK PROBLEMS"
      ],
      "metadata": {
        "id": "A0Ld8x50Lttt"
      }
    },
    {
      "cell_type": "code",
      "source": [
        "def fractional_knapsack(values, weights, capacity):\n",
        "    items = []\n",
        "    for i in range(len(values)):\n",
        "        ratio = values[i] / weights[i]\n",
        "        items.append((ratio, values[i], weights[i]))\n",
        "\n",
        "\n",
        "    items.sort(reverse=True)\n",
        "\n",
        "    total_value = 0.0\n",
        "    for ratio, value, weight in items:\n",
        "        if capacity >= weight:\n",
        "\n",
        "            capacity -= weight\n",
        "            total_value += value\n",
        "        else:\n",
        "\n",
        "            total_value += ratio * capacity\n",
        "            break\n",
        "\n",
        "    return total_value\n",
        "\n",
        "values = [60, 100, 120]\n",
        "weights = [10, 20, 30]\n",
        "capacity = 50\n",
        "\n",
        "max_value = fractional_knapsack(values, weights, capacity)\n",
        "print(f\"Maximum value in Knapsack: {max_value:.2f}\")\n"
      ],
      "metadata": {
        "colab": {
          "base_uri": "https://localhost:8080/"
        },
        "id": "9jYfMRnYLvM9",
        "outputId": "2ab35bc3-85e0-4592-fbd1-244097b88e58"
      },
      "execution_count": 5,
      "outputs": [
        {
          "output_type": "stream",
          "name": "stdout",
          "text": [
            "Maximum value in Knapsack: 240.00\n"
          ]
        }
      ]
    },
    {
      "cell_type": "markdown",
      "source": [
        "4(B). 0/1 KNAPSACK PROBLEMS"
      ],
      "metadata": {
        "id": "I5PHtzVmLy7v"
      }
    },
    {
      "cell_type": "code",
      "source": [
        "def knapsack(weights, values, capacity):\n",
        "    n = len(values)\n",
        "    dp = [0] * (capacity + 1)\n",
        "    for i in range(n):\n",
        "        for w in range(capacity, weights[i] - 1, -1):\n",
        "            dp[w] = max(dp[w], dp[w - weights[i]] + values[i])\n",
        "    return dp[capacity]\n",
        "\n",
        "values = [23, 45, 12, 7, 5]\n",
        "weights = [10, 20, 30, 40, 50]\n",
        "capacity = 50\n",
        "\n",
        "result = knapsack(weights, values, capacity)\n",
        "print(\"Knapsack value is:\", result)\n"
      ],
      "metadata": {
        "colab": {
          "base_uri": "https://localhost:8080/"
        },
        "id": "KBnb9A2ZLzh9",
        "outputId": "7718a60f-9752-4bd6-ac9e-9a4edff555aa"
      },
      "execution_count": 6,
      "outputs": [
        {
          "output_type": "stream",
          "name": "stdout",
          "text": [
            "Knapsack value is: 68\n"
          ]
        }
      ]
    },
    {
      "cell_type": "markdown",
      "source": [
        "EX-5: TRAVELLING SALESMAN"
      ],
      "metadata": {
        "id": "D0Ntwo0pL2-A"
      }
    },
    {
      "cell_type": "code",
      "source": [
        "def tsp(graph, visited, current_city, count, cost, path, start):\n",
        "    global min_cost, best_path\n",
        "    if count == len(graph) and graph[current_city][start] != 0:\n",
        "        total_cost = cost + graph[current_city][start]\n",
        "        if total_cost < min_cost:\n",
        "            min_cost = total_cost\n",
        "            best_path = path + [start]\n",
        "        return\n",
        "\n",
        "    for next_city in range(len(graph)):\n",
        "        if not visited[next_city] and graph[current_city][next_city] != 0:\n",
        "            visited[next_city] = True\n",
        "            tsp(graph, visited, next_city, count + 1, cost + graph[current_city][next_city], path + [next_city], start)\n",
        "            visited[next_city] = False\n",
        "graph = [\n",
        "    [0, 10, 15, 20],\n",
        "    [10, 0, 35, 25],\n",
        "    [15, 35, 0, 30],\n",
        "    [20, 25, 30, 0]\n",
        "]\n",
        "n = len(graph)\n",
        "visited = [False] * n\n",
        "visited[0] = True\n",
        "min_cost = float('inf')\n",
        "best_path = []\n",
        "\n",
        "tsp(graph, visited, 0, 1, 0, [0], 0)\n",
        "\n",
        "print(\"Minimum cost:\", min_cost)\n",
        "print(\"Best path:\", best_path)\n"
      ],
      "metadata": {
        "colab": {
          "base_uri": "https://localhost:8080/"
        },
        "id": "C2xvr3EzL3hE",
        "outputId": "448f560f-22e0-4f4f-edd4-3793944485eb"
      },
      "execution_count": 7,
      "outputs": [
        {
          "output_type": "stream",
          "name": "stdout",
          "text": [
            "Minimum cost: 80\n",
            "Best path: [0, 1, 3, 2, 0]\n"
          ]
        }
      ]
    },
    {
      "cell_type": "markdown",
      "source": [
        "EX-6 : MINIMUM SPANNING TREE"
      ],
      "metadata": {
        "id": "Yvf2NZaXL7au"
      }
    },
    {
      "cell_type": "markdown",
      "source": [
        "6(A). KRUSKAL'S ALGORITHM"
      ],
      "metadata": {
        "id": "Nw7GSRk9L8r2"
      }
    },
    {
      "cell_type": "code",
      "source": [
        "n = 4\n",
        "edges = [\n",
        "    (10, 0, 1),\n",
        "    (6, 0, 2),\n",
        "    (5, 0, 3),\n",
        "    (15, 1, 3),\n",
        "    (4, 2, 3)\n",
        "]\n",
        "edges.sort()\n",
        "parent = [i for i in range(n)]\n",
        "def find(i):\n",
        "    while parent[i] != i:\n",
        "        i = parent[i]\n",
        "    return i\n",
        "def union(i, j):\n",
        "    a = find(i)\n",
        "    b = find(j)\n",
        "    parent[a] = b\n",
        "mst = []\n",
        "cost = 0\n",
        "for w, u, v in edges:\n",
        "    if find(u) != find(v):\n",
        "        union(u, v)\n",
        "        mst.append((u, v, w))\n",
        "        cost += w\n",
        "print(\"Minimum cost:\", cost)\n",
        "print(\"Edges in MST:\")\n",
        "for u, v, w in mst:\n",
        "    print(f\"{u} -- {v} == {w}\")\n"
      ],
      "metadata": {
        "colab": {
          "base_uri": "https://localhost:8080/"
        },
        "id": "OLshh1BvL992",
        "outputId": "30a52bf3-d33a-4ab7-c160-40282224d475"
      },
      "execution_count": 8,
      "outputs": [
        {
          "output_type": "stream",
          "name": "stdout",
          "text": [
            "Minimum cost: 19\n",
            "Edges in MST:\n",
            "2 -- 3 == 4\n",
            "0 -- 3 == 5\n",
            "0 -- 1 == 10\n"
          ]
        }
      ]
    },
    {
      "cell_type": "markdown",
      "source": [
        "6(B). PRIM'S ALGORITHM"
      ],
      "metadata": {
        "id": "AQ34bPotMCPx"
      }
    },
    {
      "cell_type": "code",
      "source": [
        "n = 5\n",
        "graph = [\n",
        "    [0, 2, 0, 6, 0],\n",
        "    [2, 0, 3, 8, 5],\n",
        "    [0, 3, 0, 0, 7],\n",
        "    [6, 8, 0, 0, 9],\n",
        "    [0, 5, 7, 9, 0]\n",
        "]\n",
        "selected = [False] * n\n",
        "selected[0] = True\n",
        "edges = 0\n",
        "cost = 0\n",
        "print(\"Edge : Weight\")\n",
        "while edges < n - 1:\n",
        "    min_weight = float('inf')\n",
        "    x = y = -1\n",
        "    for i in range(n):\n",
        "        if selected[i]:\n",
        "            for j in range(n):\n",
        "                if not selected[j] and graph[i][j] > 0:\n",
        "                    if graph[i][j] < min_weight:\n",
        "                        min_weight = graph[i][j]\n",
        "                        x = i\n",
        "                        y = j\n",
        "    print(f\"{x} - {y} : {min_weight}\")\n",
        "    cost += min_weight\n",
        "    selected[y] = True\n",
        "    edges += 1\n",
        "print(\"Minimum Cost:\", cost)\n"
      ],
      "metadata": {
        "colab": {
          "base_uri": "https://localhost:8080/"
        },
        "id": "L_i5hXp-MC4P",
        "outputId": "7316bb45-ad4e-422c-8bf4-568a8840230c"
      },
      "execution_count": 9,
      "outputs": [
        {
          "output_type": "stream",
          "name": "stdout",
          "text": [
            "Edge : Weight\n",
            "0 - 1 : 2\n",
            "1 - 2 : 3\n",
            "1 - 4 : 5\n",
            "0 - 3 : 6\n",
            "Minimum Cost: 16\n"
          ]
        }
      ]
    },
    {
      "cell_type": "markdown",
      "source": [
        "EX-7: SHORTEST PATH ALGORITHM"
      ],
      "metadata": {
        "id": "kt7UsEpDMEvo"
      }
    },
    {
      "cell_type": "markdown",
      "source": [
        "7(A). DIJKSTRA'S ALGORITHM"
      ],
      "metadata": {
        "id": "w81oocYmMGOm"
      }
    },
    {
      "cell_type": "code",
      "source": [
        "n = 5\n",
        "graph = [\n",
        "    [0, 10, 0, 0, 5],\n",
        "    [10, 0, 20, 0, 0],\n",
        "    [0, 20, 0, 10, 0],\n",
        "    [0, 0, 10, 0, 10],\n",
        "    [5, 0, 0, 10, 0]\n",
        "]\n",
        "def dijkstra(graph, start):\n",
        "    n = len(graph)\n",
        "    distances = [float('inf')] * n\n",
        "    distances[start] = 0\n",
        "    visited = [False] * n\n",
        "\n",
        "    for _ in range(n):\n",
        "        min_distance = float('inf')\n",
        "        min_node = -1\n",
        "        for i in range(n):\n",
        "            if not visited[i] and distances[i] < min_distance:\n",
        "                min_distance = distances[i]\n",
        "                min_node = i\n",
        "\n",
        "        visited[min_node] = True\n",
        "        for i in range(n):\n",
        "            if graph[min_node][i] != 0 and not visited[i]:\n",
        "                new_distance = distances[min_node] + graph[min_node][i]\n",
        "                if new_distance < distances[i]:\n",
        "                    distances[i] = new_distance\n",
        "\n",
        "    return distances\n",
        "start_node = 0\n",
        "distances = dijkstra(graph, start_node)\n",
        "print(\"Shortest distances from node\", start_node)\n",
        "for i, dist in enumerate(distances):\n",
        "    print(f\"Node {i}: {dist}\")"
      ],
      "metadata": {
        "colab": {
          "base_uri": "https://localhost:8080/"
        },
        "id": "t2UomWhsMHqY",
        "outputId": "ee30562e-8d44-4be5-a0c8-e082bff53678"
      },
      "execution_count": 10,
      "outputs": [
        {
          "output_type": "stream",
          "name": "stdout",
          "text": [
            "Shortest distances from node 0\n",
            "Node 0: 0\n",
            "Node 1: 10\n",
            "Node 2: 25\n",
            "Node 3: 15\n",
            "Node 4: 5\n"
          ]
        }
      ]
    },
    {
      "cell_type": "markdown",
      "source": [
        "7(B). BELLMAN-FORD ALGORITHM"
      ],
      "metadata": {
        "id": "V7ySRW_bMLIQ"
      }
    },
    {
      "cell_type": "code",
      "source": [
        "n = 5\n",
        "edges = [\n",
        "    (0, 1, -1),\n",
        "    (0, 2, 4),\n",
        "    (1, 2, 3),\n",
        "    (1, 3, 2),\n",
        "    (1, 4, 2),\n",
        "    (3, 2, 5),\n",
        "    (3, 1, 1),\n",
        "    (4, 3, -3)\n",
        "]\n",
        "def bellman_ford(n, edges, start):\n",
        "\n",
        "    distances = [float('inf')] * n\n",
        "    distances[start] = 0\n",
        "\n",
        "    for _ in range(n - 1):\n",
        "        for u, v, weight in edges:\n",
        "            if distances[u] != float('inf') and distances[u] + weight < distances[v]:\n",
        "                distances[v] = distances[u] + weight\n",
        "\n",
        "    for u, v, weight in edges:\n",
        "        if distances[u] != float('inf') and distances[u] + weight < distances[v]:\n",
        "            print(\"Graph contains a negative weight cycle\")\n",
        "            return\n",
        "\n",
        "    return distances\n",
        "start_node = 0\n",
        "distances = bellman_ford(n, edges, start_node)\n",
        "if distances:\n",
        "    print(\"Shortest distances from node\", start_node)\n",
        "    for i, dist in enumerate(distances):\n",
        "        print(f\"Node {i}: {dist}\")\n"
      ],
      "metadata": {
        "colab": {
          "base_uri": "https://localhost:8080/"
        },
        "id": "I_PoSTMKMMJp",
        "outputId": "038b26e4-f168-4f6f-c4a5-112b8f4ff3b0"
      },
      "execution_count": 11,
      "outputs": [
        {
          "output_type": "stream",
          "name": "stdout",
          "text": [
            "Shortest distances from node 0\n",
            "Node 0: 0\n",
            "Node 1: -1\n",
            "Node 2: 2\n",
            "Node 3: -2\n",
            "Node 4: 1\n"
          ]
        }
      ]
    },
    {
      "cell_type": "markdown",
      "source": [
        "EX-8: RANDOMISED ALGORITHM"
      ],
      "metadata": {
        "id": "juPV2D-oMQu6"
      }
    },
    {
      "cell_type": "code",
      "source": [
        "import random\n",
        "\n",
        "# Union-Find Data Structure\n",
        "def find(parent, x):\n",
        "    if parent[x] != x:\n",
        "        parent[x] = find(parent, parent[x])\n",
        "    return parent[x]\n",
        "\n",
        "def union(parent, rank, x, y):\n",
        "    rootX = find(parent, x)\n",
        "    rootY = find(parent, y)\n",
        "    if rootX != rootY:\n",
        "        if rank[rootX] > rank[rootY]:\n",
        "            parent[rootY] = rootX\n",
        "        elif rank[rootX] < rank[rootY]:\n",
        "            parent[rootX] = rootY\n",
        "        else:\n",
        "            parent[rootY] = rootX\n",
        "            rank[rootX] += 1\n",
        "        return True\n",
        "    return False\n",
        "\n",
        "# Randomized Kruskal's Algorithm\n",
        "def randomized_kruskal(n, edges):\n",
        "    # Step 1: Shuffle edges randomly\n",
        "    random.shuffle(edges)\n",
        "\n",
        "    parent = [i for i in range(n)]\n",
        "    rank = [0] * n\n",
        "    mst = []\n",
        "    mst_weight = 0\n",
        "\n",
        "    # Step 2: Process edges randomly\n",
        "    for u, v, weight in edges:\n",
        "        if union(parent, rank, u, v):\n",
        "            mst.append((u, v, weight))\n",
        "            mst_weight += weight\n",
        "\n",
        "    return mst_weight, mst\n",
        "\n",
        "# Example usage\n",
        "n = 5  # Number of nodes\n",
        "edges = [\n",
        "    (0, 1, 10),\n",
        "    (0, 2, 6),\n",
        "    (0, 3, 5),\n",
        "    (1, 3, 15),\n",
        "    (2, 3, 4)\n",
        "]\n",
        "\n",
        "mst_weight, mst = randomized_kruskal(n, edges)\n",
        "print(\"Minimum Spanning Tree Weight:\", mst_weight)\n",
        "print(\"Edges in MST:\")\n",
        "for u, v, weight in mst:\n",
        "    print(f\"{u} - {v} == {weight}\")\n"
      ],
      "metadata": {
        "colab": {
          "base_uri": "https://localhost:8080/"
        },
        "id": "ufvTcxFjMaJK",
        "outputId": "9f14ed51-ebd1-4a46-b398-a817316ded90"
      },
      "execution_count": 12,
      "outputs": [
        {
          "output_type": "stream",
          "name": "stdout",
          "text": [
            "Minimum Spanning Tree Weight: 31\n",
            "Edges in MST:\n",
            "0 - 2 == 6\n",
            "0 - 1 == 10\n",
            "1 - 3 == 15\n"
          ]
        }
      ]
    },
    {
      "cell_type": "markdown",
      "source": [
        "8(B). MONTE CARLO ALGORITHM"
      ],
      "metadata": {
        "id": "KdshouQxMdfh"
      }
    },
    {
      "cell_type": "code",
      "source": [
        "import random\n",
        "\n",
        "def monte_carlo_pi(num_samples):\n",
        "    inside_circle = 0\n",
        "    for _ in range(num_samples):\n",
        "\n",
        "        x = random.uniform(-1, 1)\n",
        "        y = random.uniform(-1, 1)\n",
        "\n",
        "\n",
        "        if x*2 + y*2 <= 1:\n",
        "            inside_circle += 1\n",
        "\n",
        "    pi_estimate = 4 * (inside_circle / num_samples)\n",
        "    return pi_estimate\n",
        "num_samples = 1000000\n",
        "estimated_pi = monte_carlo_pi(num_samples)\n",
        "print(f\"Estimated value of Pi: {estimated_pi}\")"
      ],
      "metadata": {
        "colab": {
          "base_uri": "https://localhost:8080/"
        },
        "id": "foACLy6sMesB",
        "outputId": "aff6fdff-168e-4bd2-b9cd-2e6868cd42be"
      },
      "execution_count": 13,
      "outputs": [
        {
          "output_type": "stream",
          "name": "stdout",
          "text": [
            "Estimated value of Pi: 2.876272\n"
          ]
        }
      ]
    }
  ]
}